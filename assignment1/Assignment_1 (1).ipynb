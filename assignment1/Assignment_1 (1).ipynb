{
 "cells": [
  {
   "cell_type": "markdown",
   "id": "9e41ebcc",
   "metadata": {},
   "source": [
    "## Assignment 1 (50 marks)\n",
    "#### =====================================================================================================\n",
    "### Deadline: 02/12 11:59 pm\n",
    "#### ====================================================================================================="
   ]
  },
  {
   "cell_type": "markdown",
   "id": "5a49cca1",
   "metadata": {},
   "source": [
    "### Problem 1: SVM Classification (35 marks)\n",
    "\n",
    "`lab01_dataset_1.xlsx` contains the claim history of 27,513 homeowner policies. The following table describes the eleven columns in the dataset.\n",
    "\n",
    "| Name | Description |\n",
    "| --- | --- |\n",
    "| policy | Policy Identifier |\n",
    "| exposure | Duration a Policy exposed in a Year |\n",
    "| num_claims | Number of Claims in a Year |\n",
    "| amt_claims | Total Claim Amount in a Year\t|\n",
    "| f_primary_age_tier | Age Tier of Primary Insured |\n",
    "| f_primary_gender | Gender of Primary Insured |\n",
    "| f_marital | Marital Status of Primary Insured |\n",
    "| f_residence_location | Location of Residence Property |\n",
    "| f_fire_alarm_type | Fire Alarm Type |\n",
    "| f_mile_fire_station | Distance to Nearest Fire Station |\n",
    "| f_aoi_tier | Amount of Insurance Tier |"
   ]
  },
  {
   "cell_type": "markdown",
   "id": "f450cd6c",
   "metadata": {},
   "source": [
    "We want to predict the *Frequency* which is the *number of claims per unit of exposure* using the above features.  We first divide the reported number of claims by the exposure. This gives us the *Frequency*.  Next, we put the policies into five groups according to their *Frequency* values. We will use this *Group* as our target variable which has five classes.\n",
    "\n",
    "| Group | Values |\n",
    "| :--- | :--- |\n",
    "| 0 | Frequency = 0 |\n",
    "| 1 | 0 < Frequency <= 1 |\n",
    "| 2 | 1 < Frequency <= 2 |\n",
    "| 3 | 2 < Frequency <= 3 |\n",
    "| 4 | 3 < Frequency |\n"
   ]
  },
  {
   "cell_type": "markdown",
   "id": "36fbfd79",
   "metadata": {},
   "source": [
    "### 1.a (6 marks)\n",
    "Create a new column for the dataset which will indiciate the *Frequency Group* and output the updated dataset."
   ]
  },
  {
   "cell_type": "code",
   "execution_count": 10,
   "id": "7b501f69",
   "metadata": {},
   "outputs": [
    {
     "data": {
      "text/plain": [
       "0    0\n",
       "1    0\n",
       "2    2\n",
       "3    1\n",
       "4    1\n",
       "Name: Frequency Group, dtype: int64"
      ]
     },
     "execution_count": 10,
     "metadata": {},
     "output_type": "execute_result"
    }
   ],
   "source": [
    "import pandas as pd\n",
    "\n",
    "data = pd.read_excel('lab01_dataset_1 (1).xlsx')\n",
    "data['Frequency Group'] = data['num_claims'] / data['exposure']\n",
    "def freq_group(freq):\n",
    "    if freq == 0:\n",
    "        return 0\n",
    "    elif freq <= 1:\n",
    "        return 1\n",
    "    elif freq <= 2:\n",
    "        return 2\n",
    "    elif freq <= 3:\n",
    "        return 3\n",
    "    else:\n",
    "        return 4\n",
    "data['Frequency Group'] = data['Frequency Group'].apply(freq_group)\n",
    "data['Frequency Group'].head()"
   ]
  },
  {
   "cell_type": "markdown",
   "id": "14be460f",
   "metadata": {},
   "source": [
    "### 1.b (6 marks)\n",
    "There are seven categorial features in the dataset namely, *f_aoi_tier, f_primary_age_tier, f_fire_alarm_type, f_marital, f_mile_fire_station, f_primary_gender, f_residence_location*. Display all the unique values of these seven categories."
   ]
  },
  {
   "cell_type": "code",
   "execution_count": 14,
   "id": "ed2d69d5",
   "metadata": {},
   "outputs": [
    {
     "name": "stdout",
     "output_type": "stream",
     "text": [
      "The unique values of f_aoi_tier are: ['351K - 600K' '< 100K' '100K - 350K' '601K - 1M' '> 1M'].\n",
      "The unique values of f_primary_age_tier are: ['21 - 27' '38 - 60' '28 - 37' '> 60' '< 21'].\n",
      "The unique values of f_fire_alarm_type are: ['Alarm Service' nan 'Standalone'].\n",
      "The unique values of f_marital are: ['Married' 'Un-Married' 'Not Married'].\n",
      "The unique values of f_mile_fire_station are: ['< 1 mile' '1 - 5 miles' '> 10 miles' '6 - 10 miles'].\n",
      "The unique values of f_primary_gender are: ['Male' 'Female'].\n",
      "The unique values of f_residence_location are: ['Urban' 'Suburban' 'Rural'].\n"
     ]
    }
   ],
   "source": [
    "aoi_unique = data['f_aoi_tier'].unique()\n",
    "age_unique = data['f_primary_age_tier'].unique()\n",
    "fire_unique = data['f_fire_alarm_type'].unique()\n",
    "marital_unique = data['f_marital'].unique()\n",
    "mile_unique = data['f_mile_fire_station'].unique()\n",
    "gender_unique = data['f_primary_gender'].unique()\n",
    "residence_unique = data['f_residence_location'].unique()\n",
    "\n",
    "print(f\"The unique values of f_aoi_tier are: {aoi_unique}.\")\n",
    "print(f\"The unique values of f_primary_age_tier are: {age_unique}.\")\n",
    "print(f\"The unique values of f_fire_alarm_type are: {fire_unique}.\")\n",
    "print(f\"The unique values of f_marital are: {marital_unique}.\")\n",
    "print(f\"The unique values of f_mile_fire_station are: {mile_unique}.\")\n",
    "print(f\"The unique values of f_primary_gender are: {gender_unique}.\")\n",
    "print(f\"The unique values of f_residence_location are: {residence_unique}.\")"
   ]
  },
  {
   "cell_type": "markdown",
   "id": "3b404ea4",
   "metadata": {},
   "source": [
    "### 1.c (6 marks)\n",
    "We will train SVM models using those seven categorical features. However, their values are currently all categorical data, but SVM requires them to be numerical. Perform ***one-hot encoding*** on these features to obtain an updated dataset which has only numerical values."
   ]
  },
  {
   "cell_type": "code",
   "execution_count": 16,
   "id": "a68bb671",
   "metadata": {},
   "outputs": [
    {
     "ename": "AttributeError",
     "evalue": "'DataFrame' object has no attribute 'frame'",
     "output_type": "error",
     "traceback": [
      "\u001b[0;31m---------------------------------------------------------------------------\u001b[0m",
      "\u001b[0;31mAttributeError\u001b[0m                            Traceback (most recent call last)",
      "\u001b[0;32m/var/folders/c0/m7c3ykwj4bs_32vrtch7_7tm0000gn/T/ipykernel_96952/2268792661.py\u001b[0m in \u001b[0;36m?\u001b[0;34m()\u001b[0m\n\u001b[1;32m      1\u001b[0m \u001b[0mone_hot_encoding\u001b[0m \u001b[0;34m=\u001b[0m \u001b[0;34m{\u001b[0m\u001b[0;34m}\u001b[0m\u001b[0;34m\u001b[0m\u001b[0;34m\u001b[0m\u001b[0m\n\u001b[1;32m      2\u001b[0m \u001b[0mcategories\u001b[0m \u001b[0;34m=\u001b[0m \u001b[0;34m[\u001b[0m\u001b[0;34m'f_aoi_tier'\u001b[0m\u001b[0;34m,\u001b[0m \u001b[0;34m'f_primary_age_tier'\u001b[0m\u001b[0;34m,\u001b[0m \u001b[0;34m'f_fire_alarm_type'\u001b[0m\u001b[0;34m,\u001b[0m \u001b[0;34m'f_marital'\u001b[0m\u001b[0;34m,\u001b[0m \u001b[0;34m'f_mile_fire_station'\u001b[0m\u001b[0;34m,\u001b[0m \u001b[0;34m'f_primary_gender'\u001b[0m\u001b[0;34m,\u001b[0m \u001b[0;34m'f_residence_location'\u001b[0m\u001b[0;34m]\u001b[0m\u001b[0;34m\u001b[0m\u001b[0;34m\u001b[0m\u001b[0m\n\u001b[1;32m      3\u001b[0m \u001b[0;32mfor\u001b[0m \u001b[0mcategory\u001b[0m \u001b[0;32min\u001b[0m \u001b[0mcategories\u001b[0m\u001b[0;34m:\u001b[0m\u001b[0;34m\u001b[0m\u001b[0;34m\u001b[0m\u001b[0m\n\u001b[1;32m      4\u001b[0m     \u001b[0mone_hot_encoding\u001b[0m\u001b[0;34m[\u001b[0m\u001b[0mcategory\u001b[0m\u001b[0;34m]\u001b[0m \u001b[0;34m=\u001b[0m \u001b[0mpd\u001b[0m\u001b[0;34m.\u001b[0m\u001b[0mget_dummies\u001b[0m\u001b[0;34m(\u001b[0m\u001b[0mdata\u001b[0m\u001b[0;34m[\u001b[0m\u001b[0mcategory\u001b[0m\u001b[0;34m]\u001b[0m\u001b[0;34m,\u001b[0m \u001b[0mprefix\u001b[0m\u001b[0;34m=\u001b[0m\u001b[0mcategory\u001b[0m\u001b[0;34m)\u001b[0m\u001b[0;34m\u001b[0m\u001b[0;34m\u001b[0m\u001b[0m\n\u001b[0;32m----> 5\u001b[0;31m \u001b[0mdf\u001b[0m \u001b[0;34m=\u001b[0m \u001b[0mdata\u001b[0m\u001b[0;34m.\u001b[0m\u001b[0mframe\u001b[0m\u001b[0;34m(\u001b[0m\u001b[0mone_hot_encoding\u001b[0m\u001b[0;34m)\u001b[0m\u001b[0;34m\u001b[0m\u001b[0;34m\u001b[0m\u001b[0m\n\u001b[0m\u001b[1;32m      6\u001b[0m \u001b[0mdf\u001b[0m\u001b[0;34m\u001b[0m\u001b[0;34m\u001b[0m\u001b[0m\n",
      "\u001b[0;32m/Library/Frameworks/Python.framework/Versions/3.12/lib/python3.12/site-packages/pandas/core/generic.py\u001b[0m in \u001b[0;36m?\u001b[0;34m(self, name)\u001b[0m\n\u001b[1;32m   6295\u001b[0m             \u001b[0;32mand\u001b[0m \u001b[0mname\u001b[0m \u001b[0;32mnot\u001b[0m \u001b[0;32min\u001b[0m \u001b[0mself\u001b[0m\u001b[0;34m.\u001b[0m\u001b[0m_accessors\u001b[0m\u001b[0;34m\u001b[0m\u001b[0;34m\u001b[0m\u001b[0m\n\u001b[1;32m   6296\u001b[0m             \u001b[0;32mand\u001b[0m \u001b[0mself\u001b[0m\u001b[0;34m.\u001b[0m\u001b[0m_info_axis\u001b[0m\u001b[0;34m.\u001b[0m\u001b[0m_can_hold_identifiers_and_holds_name\u001b[0m\u001b[0;34m(\u001b[0m\u001b[0mname\u001b[0m\u001b[0;34m)\u001b[0m\u001b[0;34m\u001b[0m\u001b[0;34m\u001b[0m\u001b[0m\n\u001b[1;32m   6297\u001b[0m         \u001b[0;34m)\u001b[0m\u001b[0;34m:\u001b[0m\u001b[0;34m\u001b[0m\u001b[0;34m\u001b[0m\u001b[0m\n\u001b[1;32m   6298\u001b[0m             \u001b[0;32mreturn\u001b[0m \u001b[0mself\u001b[0m\u001b[0;34m[\u001b[0m\u001b[0mname\u001b[0m\u001b[0;34m]\u001b[0m\u001b[0;34m\u001b[0m\u001b[0;34m\u001b[0m\u001b[0m\n\u001b[0;32m-> 6299\u001b[0;31m         \u001b[0;32mreturn\u001b[0m \u001b[0mobject\u001b[0m\u001b[0;34m.\u001b[0m\u001b[0m__getattribute__\u001b[0m\u001b[0;34m(\u001b[0m\u001b[0mself\u001b[0m\u001b[0;34m,\u001b[0m \u001b[0mname\u001b[0m\u001b[0;34m)\u001b[0m\u001b[0;34m\u001b[0m\u001b[0;34m\u001b[0m\u001b[0m\n\u001b[0m",
      "\u001b[0;31mAttributeError\u001b[0m: 'DataFrame' object has no attribute 'frame'"
     ]
    }
   ],
   "source": [
    "one_hot_encoding = {}\n",
    "categories = ['f_aoi_tier', 'f_primary_age_tier', 'f_fire_alarm_type', 'f_marital', 'f_mile_fire_station', 'f_primary_gender', 'f_residence_location']\n",
    "for category in categories:\n",
    "    one_hot_encoding[category] = pd.get_dummies(data[category], prefix=category)\n",
    "df = data.frame(one_hot_encoding)\n",
    "df"
   ]
  },
  {
   "cell_type": "markdown",
   "id": "9bc76119",
   "metadata": {},
   "source": [
    "### 1.d (6 marks)\n",
    "Divide the observations into training and testing partitions. Observations whose *Policy Identifier* starts with the letters A, G, and P will go to the training partition. The remaining observations go to the testing partition. Output the total number of policies present in the Training partition and Testing partition."
   ]
  },
  {
   "cell_type": "code",
   "execution_count": null,
   "id": "fdca0e07",
   "metadata": {},
   "outputs": [],
   "source": []
  },
  {
   "cell_type": "markdown",
   "id": "c780f6d7",
   "metadata": {},
   "source": [
    "### 1.e (6 marks)\n",
    "Train an SVM model using [LinearSVC](https://scikit-learn.org/stable/modules/generated/sklearn.svm.LinearSVC.html). The input features will be the encoded version of the feature set *f_aoi_tier, f_primary_age_tier, f_fire_alarm_type, f_marital, f_mile_fire_station, f_primary_gender, f_residence_location* and the output is the *Frequency Group*. Use `verbose=1` to observe the optimization steps during the training process."
   ]
  },
  {
   "cell_type": "code",
   "execution_count": null,
   "id": "6560ed87",
   "metadata": {},
   "outputs": [],
   "source": []
  },
  {
   "cell_type": "markdown",
   "id": "5d8c3cfd",
   "metadata": {},
   "source": [
    "### 1.f (5 marks)\n",
    "Compute and output the Accuracy Score on the Testing partition."
   ]
  },
  {
   "cell_type": "code",
   "execution_count": null,
   "id": "c360ee34",
   "metadata": {},
   "outputs": [],
   "source": []
  },
  {
   "cell_type": "markdown",
   "id": "813b67a0",
   "metadata": {},
   "source": [
    "### Problem 2: Perceptron Learning (15 marks)\n",
    "\n",
    "The dataset `lab01_dataset_2.csv` has a *3-dimensional input space* and a class label of *Positive* and *Negative*. For this task, you are **not allowed** to use any *functionalities* of the `sklearn` module."
   ]
  },
  {
   "cell_type": "markdown",
   "id": "91f5decd",
   "metadata": {},
   "source": [
    "### 2.a (10 marks)\n",
    "Write a function `my_perceptron()` which applies the perceptron algorithm (refer to the lecture slide covering linear separators for details of this algorithm) on the dataset to create a linear separator. `my_perceptron()` takes the dataset as its input and returns a ***3-dimensional weight vector*** which can be used to create the linear separator (assume `bias = 0`). Use the *initial weights* `w = [1,2,3]`. Use a classification threshold of `99%` i.e., `my_perceptron()` will terminate once the misclassification rate is less than `1%`."
   ]
  },
  {
   "cell_type": "code",
   "execution_count": null,
   "id": "a2a91443",
   "metadata": {},
   "outputs": [],
   "source": []
  },
  {
   "cell_type": "markdown",
   "id": "fba55175",
   "metadata": {},
   "source": [
    "### 2.b (5 marks)\n",
    "Create a *3D plot* which showcases the dataset in a 3D-space alongwith the *linear separator* you obtained from `my_perceptron()`. Use two different colors to represent the data points belonging in the two classes for ease of viewing."
   ]
  },
  {
   "cell_type": "code",
   "execution_count": null,
   "id": "0b64db99",
   "metadata": {},
   "outputs": [],
   "source": []
  }
 ],
 "metadata": {
  "kernelspec": {
   "display_name": "Python 3",
   "language": "python",
   "name": "python3"
  },
  "language_info": {
   "codemirror_mode": {
    "name": "ipython",
    "version": 3
   },
   "file_extension": ".py",
   "mimetype": "text/x-python",
   "name": "python",
   "nbconvert_exporter": "python",
   "pygments_lexer": "ipython3",
   "version": "3.12.6"
  }
 },
 "nbformat": 4,
 "nbformat_minor": 5
}
